{
  "cells": [
    {
      "cell_type": "markdown",
      "metadata": {
        "id": "view-in-github",
        "colab_type": "text"
      },
      "source": [
        "<a href=\"https://colab.research.google.com/github/NiyazovIlia/PyTorch-1/blob/lesson-1/HW_01.ipynb\" target=\"_parent\"><img src=\"https://colab.research.google.com/assets/colab-badge.svg\" alt=\"Open In Colab\"/></a>"
      ]
    },
    {
      "cell_type": "code",
      "metadata": {
        "cell_id": "9d5bef46-cdc7-48d0-a266-bf6b57a5c0b9",
        "deepnote_cell_type": "code",
        "id": "mJwczo6uT_zs"
      },
      "source": [
        "import torch"
      ],
      "outputs": [],
      "execution_count": 1
    },
    {
      "cell_type": "code",
      "metadata": {
        "cell_id": "00001-5460a7c7-c049-440a-8dc4-983470714360",
        "deepnote_cell_type": "code",
        "colab": {
          "base_uri": "https://localhost:8080/"
        },
        "id": "_7Ud7sq5T_zu",
        "outputId": "8d66ab02-c068-43cf-ec8f-7233e6059384"
      },
      "source": [
        "# 1. Создайте случайный FloatTensor размера 3x4x5\n",
        "test = torch.rand(3,4,5)\n",
        "test"
      ],
      "outputs": [
        {
          "output_type": "execute_result",
          "data": {
            "text/plain": [
              "tensor([[[0.2805, 0.0575, 0.6059, 0.1768, 0.4512],\n",
              "         [0.8222, 0.9186, 0.2394, 0.0995, 0.8782],\n",
              "         [0.8276, 0.2435, 0.3745, 0.5776, 0.3072],\n",
              "         [0.5514, 0.3609, 0.3575, 0.8166, 0.7214]],\n",
              "\n",
              "        [[0.7238, 0.5975, 0.2145, 0.4305, 0.6677],\n",
              "         [0.7485, 0.5125, 0.0426, 0.4392, 0.4594],\n",
              "         [0.5064, 0.3507, 0.8959, 0.2777, 0.9992],\n",
              "         [0.1569, 0.1787, 0.5246, 0.1625, 0.4745]],\n",
              "\n",
              "        [[0.8217, 0.3745, 0.1945, 0.3897, 0.1187],\n",
              "         [0.3792, 0.7673, 0.2138, 0.3852, 0.8196],\n",
              "         [0.6064, 0.0336, 0.2705, 0.7848, 0.7111],\n",
              "         [0.3507, 0.5225, 0.2444, 0.5405, 0.2898]]])"
            ]
          },
          "metadata": {},
          "execution_count": 2
        }
      ],
      "execution_count": 2
    },
    {
      "cell_type": "code",
      "metadata": {
        "cell_id": "00002-03806e80-99e5-4430-9a91-2bfbeef15658",
        "deepnote_cell_type": "code",
        "colab": {
          "base_uri": "https://localhost:8080/"
        },
        "id": "34gRvmImT_zu",
        "outputId": "7ef7bfb0-719b-420d-84ea-550586994e11"
      },
      "source": [
        "# 2. Выведите его форму (shape)\n",
        "test.shape"
      ],
      "outputs": [
        {
          "output_type": "execute_result",
          "data": {
            "text/plain": [
              "torch.Size([3, 4, 5])"
            ]
          },
          "metadata": {},
          "execution_count": 3
        }
      ],
      "execution_count": 3
    },
    {
      "cell_type": "code",
      "metadata": {
        "cell_id": "00003-e86da4b3-873c-4d39-b7bf-447a5258b1bb",
        "deepnote_cell_type": "code",
        "colab": {
          "base_uri": "https://localhost:8080/"
        },
        "id": "ZJX5pihfT_zv",
        "outputId": "7d2da5c7-104c-4c09-bdfb-0dd7def7c8b0"
      },
      "source": [
        "# 3. Приведите его к форме 6 X 10\n",
        "test = test.reshape(6,10)\n",
        "print(test.shape, test)"
      ],
      "outputs": [
        {
          "output_type": "stream",
          "name": "stdout",
          "text": [
            "torch.Size([6, 10]) tensor([[0.2805, 0.0575, 0.6059, 0.1768, 0.4512, 0.8222, 0.9186, 0.2394, 0.0995,\n",
            "         0.8782],\n",
            "        [0.8276, 0.2435, 0.3745, 0.5776, 0.3072, 0.5514, 0.3609, 0.3575, 0.8166,\n",
            "         0.7214],\n",
            "        [0.7238, 0.5975, 0.2145, 0.4305, 0.6677, 0.7485, 0.5125, 0.0426, 0.4392,\n",
            "         0.4594],\n",
            "        [0.5064, 0.3507, 0.8959, 0.2777, 0.9992, 0.1569, 0.1787, 0.5246, 0.1625,\n",
            "         0.4745],\n",
            "        [0.8217, 0.3745, 0.1945, 0.3897, 0.1187, 0.3792, 0.7673, 0.2138, 0.3852,\n",
            "         0.8196],\n",
            "        [0.6064, 0.0336, 0.2705, 0.7848, 0.7111, 0.3507, 0.5225, 0.2444, 0.5405,\n",
            "         0.2898]])\n"
          ]
        }
      ],
      "execution_count": 4
    },
    {
      "cell_type": "code",
      "source": [
        "# 4. Создайте случайный IntTensor размера 10\n",
        "v = torch.randint(10, size=(10,))"
      ],
      "metadata": {
        "id": "qG9dqlDaJohd"
      },
      "execution_count": 5,
      "outputs": []
    },
    {
      "cell_type": "code",
      "metadata": {
        "cell_id": "00004-8aac032a-61aa-41fa-9ac8-d453c8abb9e4",
        "deepnote_cell_type": "code",
        "colab": {
          "base_uri": "https://localhost:8080/"
        },
        "id": "2m4_E4jOT_zv",
        "outputId": "aaf1d18c-debe-4ecc-dfc9-a802fa8cd746"
      },
      "source": [
        "# 5. Умножьте созданный FloatTensor на созданный IntTensor поэлементно\n",
        "v = torch.randint(10, size=(10,))\n",
        "test2 = test * v\n",
        "test2"
      ],
      "outputs": [
        {
          "output_type": "execute_result",
          "data": {
            "text/plain": [
              "tensor([[0.5610, 0.3451, 0.0000, 0.1768, 1.3536, 4.9330, 6.4303, 1.1970, 0.3981,\n",
              "         7.9038],\n",
              "        [1.6552, 1.4611, 0.0000, 0.5776, 0.9216, 3.3084, 2.5260, 1.7873, 3.2664,\n",
              "         6.4927],\n",
              "        [1.4475, 3.5852, 0.0000, 0.4305, 2.0032, 4.4908, 3.5874, 0.2129, 1.7567,\n",
              "         4.1348],\n",
              "        [1.0127, 2.1044, 0.0000, 0.2777, 2.9975, 0.9411, 1.2510, 2.6228, 0.6499,\n",
              "         4.2707],\n",
              "        [1.6435, 2.2473, 0.0000, 0.3897, 0.3560, 2.2753, 5.3708, 1.0692, 1.5408,\n",
              "         7.3760],\n",
              "        [1.2129, 0.2019, 0.0000, 0.7848, 2.1332, 2.1045, 3.6573, 1.2221, 2.1618,\n",
              "         2.6078]])"
            ]
          },
          "metadata": {},
          "execution_count": 6
        }
      ],
      "execution_count": 6
    },
    {
      "cell_type": "code",
      "metadata": {
        "cell_id": "00005-a11a801e-0705-483a-b2e9-a9851f33ef93",
        "deepnote_cell_type": "code",
        "colab": {
          "base_uri": "https://localhost:8080/"
        },
        "id": "vHKp-8r_T_zv",
        "outputId": "182223d6-eea9-4104-9217-e5b31ec6f1be"
      },
      "source": [
        "# 6. Умножьте тензор матрично на себя, чтобы результат был размерности 6x6\n",
        "# Подсказка: .dot может не подойти\n",
        "test3 = torch.matmul(test2, test2.T)\n",
        "test3.reshape(6,6)"
      ],
      "outputs": [
        {
          "output_type": "execute_result",
          "data": {
            "text/plain": [
              "tensor([[132.0422,  90.1027,  83.6924,  55.2409, 108.2001,  60.6105],\n",
              "        [ 90.1027,  79.4033,  66.6129,  48.4864,  82.4857,  47.1004],\n",
              "        [ 83.6924,  66.6129,  72.4116,  43.2076,  74.2343,  44.5020],\n",
              "        [ 55.2409,  48.4864,  43.2076,  42.5075,  51.7356,  30.5689],\n",
              "        [108.2001,  82.4857,  74.2343,  51.7356,  99.9751,  51.8161],\n",
              "        [ 60.6105,  47.1004,  44.5020,  30.5689,  51.8161,  37.4508]])"
            ]
          },
          "metadata": {},
          "execution_count": 7
        }
      ],
      "execution_count": 7
    },
    {
      "cell_type": "code",
      "metadata": {
        "cell_id": "00006-c6ef8962-3ba6-4b07-bf8d-c127d3caec68",
        "deepnote_cell_type": "code",
        "colab": {
          "base_uri": "https://localhost:8080/"
        },
        "id": "HkbxB-DsT_zv",
        "outputId": "d87ce81b-68a6-4351-cc4d-854b811480e0"
      },
      "source": [
        "# 7. Посчитайте производную функции y = x**3 + z - 75t в точке (1, 0.5, 2)\n",
        "x = torch.tensor(1.0, requires_grad=True)\n",
        "z = torch.tensor(0.5, requires_grad=True)\n",
        "t = torch.tensor(2.0, requires_grad=True)\n",
        "y = x**3 + z - 75*t\n",
        "y.backward()\n",
        "print(x.grad, z.grad, t.grad)"
      ],
      "outputs": [
        {
          "output_type": "stream",
          "name": "stdout",
          "text": [
            "tensor(3.) tensor(1.) tensor(-75.)\n"
          ]
        }
      ],
      "execution_count": 8
    },
    {
      "cell_type": "code",
      "metadata": {
        "cell_id": "00007-70abfc39-9ce3-4cc2-9ee1-a0f741bf9509",
        "deepnote_cell_type": "code",
        "colab": {
          "base_uri": "https://localhost:8080/"
        },
        "id": "J7gdYXCQT_zw",
        "outputId": "6de6502b-48e6-40ac-c63f-0d0d17b573ca"
      },
      "source": [
        "# 8. Создайте единичный тензор размера 5x6\n",
        "ten = torch.ones(5,6)\n",
        "print(ten.shape, ten)"
      ],
      "outputs": [
        {
          "output_type": "stream",
          "name": "stdout",
          "text": [
            "torch.Size([5, 6]) tensor([[1., 1., 1., 1., 1., 1.],\n",
            "        [1., 1., 1., 1., 1., 1.],\n",
            "        [1., 1., 1., 1., 1., 1.],\n",
            "        [1., 1., 1., 1., 1., 1.],\n",
            "        [1., 1., 1., 1., 1., 1.]])\n"
          ]
        }
      ],
      "execution_count": 9
    },
    {
      "cell_type": "code",
      "metadata": {
        "cell_id": "00008-f2b644e5-ff13-4e05-8041-109e5d38f912",
        "deepnote_cell_type": "code",
        "colab": {
          "base_uri": "https://localhost:8080/"
        },
        "id": "Js3fdfINT_zw",
        "outputId": "f0c26af3-7aca-4102-b895-f5dec0d29e16"
      },
      "source": [
        "# 9. Переведите его в формат numpy\n",
        "import numpy\n",
        "num = ten.numpy()\n",
        "num"
      ],
      "outputs": [
        {
          "output_type": "execute_result",
          "data": {
            "text/plain": [
              "array([[1., 1., 1., 1., 1., 1.],\n",
              "       [1., 1., 1., 1., 1., 1.],\n",
              "       [1., 1., 1., 1., 1., 1.],\n",
              "       [1., 1., 1., 1., 1., 1.],\n",
              "       [1., 1., 1., 1., 1., 1.]], dtype=float32)"
            ]
          },
          "metadata": {},
          "execution_count": 10
        }
      ],
      "execution_count": 10
    }
  ],
  "nbformat": 4,
  "nbformat_minor": 0,
  "metadata": {
    "kernelspec": {
      "display_name": "Python 3",
      "language": "python",
      "name": "python3"
    },
    "language_info": {
      "codemirror_mode": {
        "name": "ipython",
        "version": 3
      },
      "file_extension": ".py",
      "mimetype": "text/x-python",
      "name": "python",
      "nbconvert_exporter": "python",
      "pygments_lexer": "ipython3",
      "version": "3.7.4"
    },
    "deepnote_notebook_id": "4a43e61f-3df5-4a01-ae45-d58694dcef8c",
    "deepnote": {},
    "deepnote_execution_queue": [],
    "colab": {
      "name": "HW_01.ipynb",
      "provenance": [],
      "collapsed_sections": [],
      "include_colab_link": true
    }
  }
}